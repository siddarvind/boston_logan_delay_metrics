{
 "cells": [
  {
   "attachments": {},
   "cell_type": "markdown",
   "metadata": {},
   "source": [
    "### Comparing Flights at Logan Airport to other large airports across the US"
   ]
  },
  {
   "attachments": {},
   "cell_type": "markdown",
   "metadata": {},
   "source": [
    "### Getting the delay data from Cirium"
   ]
  },
  {
   "cell_type": "code",
   "execution_count": 64,
   "metadata": {},
   "outputs": [],
   "source": [
    "import os\n",
    "import requests\n",
    "import json\n",
    "import numpy as np\n",
    "import statsmodels.api as st"
   ]
  },
  {
   "cell_type": "code",
   "execution_count": 107,
   "metadata": {},
   "outputs": [],
   "source": [
    "response = requests.get(\"https://api.flightstats.com/flex/delayindex/rest/v1/json/country/US?appId=e652edf8&appKey=badc3860123dfbb4c8201a2a31d2696b\")"
   ]
  },
  {
   "cell_type": "code",
   "execution_count": 115,
   "metadata": {},
   "outputs": [],
   "source": [
    "delayed_over_15 = []\n",
    "data = response.json()\n",
    "delayIndexes = data.get(\"delayIndexes\", [])\n",
    "for entry in delayIndexes:\n",
    "    airport = entry.get(\"airport\", {})\n",
    "    name = airport.get(\"name\", \"Unknown\")\n",
    "    city = airport.get(\"city\", \"Unknown\")\n",
    "    state = airport.get(\"stateCode\", \"Unknown\")\n",
    "    delayed15 = entry.get(\"delayed15\", 0)\n",
    "    delayed_over_15.append([name, city, delayed15])\n"
   ]
  },
  {
   "attachments": {},
   "cell_type": "markdown",
   "metadata": {},
   "source": [
    "Here, we want to compare Boston's delay with the delay of other larger airports"
   ]
  },
  {
   "cell_type": "code",
   "execution_count": null,
   "metadata": {},
   "outputs": [],
   "source": []
  },
  {
   "cell_type": "code",
   "execution_count": 120,
   "metadata": {},
   "outputs": [
    {
     "name": "stdout",
     "output_type": "stream",
     "text": [
      "565\n",
      "565\n",
      "['Boston Logan International Airport', 'Boston', 1]\n",
      "0.3292035398230089\n",
      "call\n"
     ]
    }
   ],
   "source": [
    "print(len(delayed_over_15))\n",
    "i=0\n",
    "\n",
    "for entry in delayed_over_15:\n",
    "     if entry[1] == \"Boston\":\n",
    "        print(f\"Name: {entry[0]}, Avg delay over 15?: {entry[2]}\")\n",
    "        bos = delayed_over_15.pop(i)[0:2]\n",
    "        continue\n",
    "     else:\n",
    "         i+=1\n",
    "\n",
    "print(len(delayed_over_15))\n",
    "print(bos)\n",
    "print(sum(record[2] for record in delayed_over_15) / len(delayed_over_15))\n",
    "\n"
   ]
  }
 ],
 "metadata": {
  "kernelspec": {
   "display_name": "Python 3",
   "language": "python",
   "name": "python3"
  },
  "language_info": {
   "codemirror_mode": {
    "name": "ipython",
    "version": 3
   },
   "file_extension": ".py",
   "mimetype": "text/x-python",
   "name": "python",
   "nbconvert_exporter": "python",
   "pygments_lexer": "ipython3",
   "version": "3.12.7"
  },
  "orig_nbformat": 4
 },
 "nbformat": 4,
 "nbformat_minor": 2
}
